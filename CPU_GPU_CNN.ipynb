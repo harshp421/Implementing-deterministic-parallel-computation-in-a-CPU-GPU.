{
 "cells": [
  {
   "cell_type": "markdown",
   "metadata": {},
   "source": [
    "Note : Make A Virtual Environment If you want to Use it in Local \n",
    "Else Upload This in Google Collab and Run it "
   ]
  },
  {
   "cell_type": "code",
   "execution_count": 41,
   "metadata": {},
   "outputs": [],
   "source": [
    "import time\n",
    "import numpy as np\n",
    "from sklearn.model_selection import train_test_split\n",
    "from sklearn.metrics import accuracy_score\n",
    "import tensorflow as tf\n",
    "from tensorflow.keras import layers, models\n",
    "from tensorflow.keras.datasets import mnist\n",
    "import matplotlib.pyplot as plt"
   ]
  },
  {
   "cell_type": "code",
   "execution_count": 42,
   "metadata": {},
   "outputs": [],
   "source": [
    "def preprocess_mnist_data(images, labels):\n",
    "    # Normalize pixel values to be between 0 and 1\n",
    "    images = images.astype('float32') / 255.0\n",
    "    return images, labels"
   ]
  },
  {
   "cell_type": "code",
   "execution_count": 43,
   "metadata": {},
   "outputs": [],
   "source": [
    "def visualize_random_images(images, labels, num_images=5):\n",
    "    fig, axes = plt.subplots(1, num_images, figsize=(15, 3))\n",
    "\n",
    "    for i in range(num_images):\n",
    "        index = np.random.randint(len(images))\n",
    "        ax = axes[i]\n",
    "        ax.imshow(images[index], cmap='gray')\n",
    "        ax.set_title(f\"Label: {labels[index]}\")\n",
    "        ax.axis('off')\n",
    "\n",
    "    plt.show()"
   ]
  },
  {
   "cell_type": "code",
   "execution_count": 44,
   "metadata": {},
   "outputs": [],
   "source": [
    "def cpu_cnn(images_train, labels_train, images_test):\n",
    "    \n",
    "    model = models.Sequential([\n",
    "        layers.Conv2D(32, (3, 3), activation='relu', input_shape=(28, 28, 1)),\n",
    "        layers.MaxPooling2D((2, 2)),\n",
    "        layers.Flatten(),\n",
    "        layers.Dense(64, activation='relu'),\n",
    "        layers.Dense(10, activation='softmax')\n",
    "    ])\n",
    "    #This Model Will Perform Computation in CPU\n",
    "    model.compile(optimizer='adam', loss='sparse_categorical_crossentropy', metrics=['accuracy'])\n",
    "    start_time = time.time()\n",
    "    model.fit(images_train, labels_train, epochs=3, batch_size=32, validation_split=0.2, verbose=0)\n",
    "    predictions = model.predict(images_test)\n",
    "    pred = np.argmax(predictions, axis=1)\n",
    "    cpu_elapsed_time = time.time() - start_time\n",
    "    return pred,cpu_elapsed_time"
   ]
  },
  {
   "cell_type": "code",
   "execution_count": 45,
   "metadata": {},
   "outputs": [],
   "source": [
    "def gpu_cnn(images_train, labels_train, images_test):\n",
    "    # TensorFlow constants created from NumPy arrays\n",
    "    #These constants are then used as inputs to the GPU-accelerated model\n",
    "    cp_images_train = tf.constant(images_train)\n",
    "    cp_labels_train = tf.constant(labels_train)\n",
    "    cp_images_test = tf.constant(images_test)\n",
    "    \n",
    "\n",
    "    model = models.Sequential([\n",
    "        layers.Conv2D(32, (3, 3), activation='relu', input_shape=(28, 28, 1)),\n",
    "        layers.MaxPooling2D((2, 2)),\n",
    "        layers.Flatten(),\n",
    "        layers.Dense(64, activation='relu'),\n",
    "        layers.Dense(10, activation='softmax')\n",
    "    ])\n",
    "    #This Model Will Perform Computation in GPU\n",
    "    model.compile(optimizer='adam', loss='sparse_categorical_crossentropy', metrics=['accuracy'])\n",
    "    start_time = time.time()\n",
    "    model.fit(cp_images_train, cp_labels_train, epochs=3, batch_size=32, validation_split=0.2, verbose=0)\n",
    "    predictions = model.predict(cp_images_test)\n",
    "    gpu_elapsed_time = time.time() - start_time\n",
    "    return np.argmax(tf.make_ndarray(tf.make_tensor_proto(predictions)), axis=1),gpu_elapsed_time\n"
   ]
  },
  {
   "cell_type": "code",
   "execution_count": 50,
   "metadata": {},
   "outputs": [
    {
     "data": {
      "image/png": "[encoded data removed]",
      "text/plain": [
       "<Figure size 1500x300 with 5 Axes>"
      ]
     },
     "metadata": {},
     "output_type": "display_data"
    },
    {
     "name": "stdout",
     "output_type": "stream",
     "text": [
      "CPU Accuracy: 0.9785\n",
      "GPU Accuracy: 0.9814166666666667\n",
      "\n",
      "Timings:\n",
      "CPU Time: 19.201062202453613 seconds\n",
      "GPU Time: 19.016143083572388 seconds\n"
     ]
    }
   ],
   "source": [
    "\n",
    "def main():\n",
    "    # Load MNIST dataset\n",
    "    (images, labels), (_, _) = mnist.load_data()\n",
    "    visualize_random_images(images, labels)\n",
    "\n",
    "    # Preprocess data\n",
    "    images, labels = preprocess_mnist_data(images, labels)\n",
    "    images = np.expand_dims(images, axis=-1)\n",
    "\n",
    "    # Split data into training and testing sets\n",
    "    images_train, images_test, labels_train, labels_test = train_test_split(images, labels, test_size=0.2, random_state=42)\n",
    "    cpu_predictions, cpu_elapsed_time = cpu_cnn(images_train, labels_train, images_test)\n",
    "    gpu_predictions,gpu_elapsed_time = gpu_cnn(images_train, labels_train, images_test)\n",
    "\n",
    "    # Evaluate accuracy\n",
    "    cpu_accuracy = accuracy_score(labels_test, cpu_predictions)\n",
    "    gpu_accuracy = accuracy_score(labels_test, gpu_predictions)\n",
    "\n",
    "    print(\"CPU Accuracy:\", cpu_accuracy)\n",
    "    print(\"GPU Accuracy:\", gpu_accuracy)\n",
    "\n",
    "    print(\"\\nTimings:\")\n",
    "    print(\"CPU Time:\", cpu_elapsed_time, \"seconds\")\n",
    "    print(\"GPU Time:\", gpu_elapsed_time, \"seconds\")\n",
    "\n",
    "if __name__ == \"__main__\":\n",
    "    main()\n"
   ]
  },
  {
   "cell_type": "markdown",
   "metadata": {},
   "source": [
    "The Time Difference between CPU and GPU execution could be vary sometime CPU will give short time and some time GPU will give , Because \n",
    "GPU time depende Upon different criteria like , complexity level , king of operation that you are performing and what kind of architecture that you are using .\n",
    "\n",
    "This Example That we have used is to demonstrate the work of any task Execute in CPU and GPU .\n"
   ]
  },
  {
   "cell_type": "code",
   "execution_count": null,
   "metadata": {},
   "outputs": [],
   "source": []
  },
  {
   "cell_type": "code",
   "execution_count": null,
   "metadata": {},
   "outputs": [],
   "source": []
  }
 ],
 "metadata": {
  "kernelspec": {
   "display_name": "test",
   "language": "python",
   "name": "python3"
  },
  "language_info": {
   "codemirror_mode": {
    "name": "ipython",
    "version": 3
   },
   "file_extension": ".py",
   "mimetype": "text/x-python",
   "name": "python",
   "nbconvert_exporter": "python",
   "pygments_lexer": "ipython3",
   "version": "3.8.0"
  }
 },
 "nbformat": 4,
 "nbformat_minor": 2
}
